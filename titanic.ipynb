{
 "cells": [
  {
   "cell_type": "markdown",
   "id": "31f8a6bd",
   "metadata": {
    "papermill": {
     "duration": 0.010185,
     "end_time": "2023-08-28T19:04:46.331553",
     "exception": false,
     "start_time": "2023-08-28T19:04:46.321368",
     "status": "completed"
    },
    "tags": []
   },
   "source": [
    "# Titanic competition with Logistic Regression\n",
    "\n",
    "\n",
    "## Objectives\n",
    "\n",
    "*   Clean Dataset\n",
    "*   Train a Model to predict survive Vs Unsurvive \n"
   ]
  },
  {
   "cell_type": "code",
   "execution_count": 1,
   "id": "2aa03c3e",
   "metadata": {
    "execution": {
     "iopub.execute_input": "2023-08-28T19:04:46.349785Z",
     "iopub.status.busy": "2023-08-28T19:04:46.349250Z",
     "iopub.status.idle": "2023-08-28T19:04:47.581771Z",
     "shell.execute_reply": "2023-08-28T19:04:47.580615Z"
    },
    "papermill": {
     "duration": 1.24501,
     "end_time": "2023-08-28T19:04:47.584791",
     "exception": false,
     "start_time": "2023-08-28T19:04:46.339781",
     "status": "completed"
    },
    "tags": []
   },
   "outputs": [
    {
     "name": "stderr",
     "output_type": "stream",
     "text": [
      "/opt/conda/lib/python3.10/site-packages/scipy/__init__.py:146: UserWarning: A NumPy version >=1.16.5 and <1.23.0 is required for this version of SciPy (detected version 1.23.5\n",
      "  warnings.warn(f\"A NumPy version >={np_minversion} and <{np_maxversion}\"\n"
     ]
    }
   ],
   "source": [
    "import pandas as pd\n",
    "import pylab as pl\n",
    "import numpy as np\n",
    "from sklearn import preprocessing\n",
    "%matplotlib inline \n",
    "import matplotlib.pyplot as plt"
   ]
  },
  {
   "cell_type": "code",
   "execution_count": 2,
   "id": "53dd47be",
   "metadata": {
    "execution": {
     "iopub.execute_input": "2023-08-28T19:04:47.603144Z",
     "iopub.status.busy": "2023-08-28T19:04:47.602719Z",
     "iopub.status.idle": "2023-08-28T19:04:47.645495Z",
     "shell.execute_reply": "2023-08-28T19:04:47.644043Z"
    },
    "papermill": {
     "duration": 0.054634,
     "end_time": "2023-08-28T19:04:47.647872",
     "exception": false,
     "start_time": "2023-08-28T19:04:47.593238",
     "status": "completed"
    },
    "tags": []
   },
   "outputs": [],
   "source": [
    "df_train = pd.read_csv(\"/kaggle/input/titanic/train.csv\", index_col='PassengerId')"
   ]
  },
  {
   "cell_type": "markdown",
   "id": "4a293f21",
   "metadata": {
    "papermill": {
     "duration": 0.008444,
     "end_time": "2023-08-28T19:04:47.664867",
     "exception": false,
     "start_time": "2023-08-28T19:04:47.656423",
     "status": "completed"
    },
    "tags": []
   },
   "source": [
    "### Become Famaliar with data "
   ]
  },
  {
   "cell_type": "code",
   "execution_count": 3,
   "id": "b5239ef0",
   "metadata": {
    "execution": {
     "iopub.execute_input": "2023-08-28T19:04:47.683306Z",
     "iopub.status.busy": "2023-08-28T19:04:47.682868Z",
     "iopub.status.idle": "2023-08-28T19:04:47.708201Z",
     "shell.execute_reply": "2023-08-28T19:04:47.706681Z"
    },
    "papermill": {
     "duration": 0.03772,
     "end_time": "2023-08-28T19:04:47.710960",
     "exception": false,
     "start_time": "2023-08-28T19:04:47.673240",
     "status": "completed"
    },
    "tags": []
   },
   "outputs": [
    {
     "name": "stdout",
     "output_type": "stream",
     "text": [
      "<class 'pandas.core.frame.DataFrame'>\n",
      "Int64Index: 891 entries, 1 to 891\n",
      "Data columns (total 11 columns):\n",
      " #   Column    Non-Null Count  Dtype  \n",
      "---  ------    --------------  -----  \n",
      " 0   Survived  891 non-null    int64  \n",
      " 1   Pclass    891 non-null    int64  \n",
      " 2   Name      891 non-null    object \n",
      " 3   Sex       891 non-null    object \n",
      " 4   Age       714 non-null    float64\n",
      " 5   SibSp     891 non-null    int64  \n",
      " 6   Parch     891 non-null    int64  \n",
      " 7   Ticket    891 non-null    object \n",
      " 8   Fare      891 non-null    float64\n",
      " 9   Cabin     204 non-null    object \n",
      " 10  Embarked  889 non-null    object \n",
      "dtypes: float64(2), int64(4), object(5)\n",
      "memory usage: 83.5+ KB\n"
     ]
    }
   ],
   "source": [
    "df_train.info()"
   ]
  },
  {
   "cell_type": "code",
   "execution_count": 4,
   "id": "d8280042",
   "metadata": {
    "execution": {
     "iopub.execute_input": "2023-08-28T19:04:47.729972Z",
     "iopub.status.busy": "2023-08-28T19:04:47.729602Z",
     "iopub.status.idle": "2023-08-28T19:04:47.768130Z",
     "shell.execute_reply": "2023-08-28T19:04:47.766930Z"
    },
    "papermill": {
     "duration": 0.050832,
     "end_time": "2023-08-28T19:04:47.770508",
     "exception": false,
     "start_time": "2023-08-28T19:04:47.719676",
     "status": "completed"
    },
    "tags": []
   },
   "outputs": [
    {
     "data": {
      "text/html": [
       "<div>\n",
       "<style scoped>\n",
       "    .dataframe tbody tr th:only-of-type {\n",
       "        vertical-align: middle;\n",
       "    }\n",
       "\n",
       "    .dataframe tbody tr th {\n",
       "        vertical-align: top;\n",
       "    }\n",
       "\n",
       "    .dataframe thead th {\n",
       "        text-align: right;\n",
       "    }\n",
       "</style>\n",
       "<table border=\"1\" class=\"dataframe\">\n",
       "  <thead>\n",
       "    <tr style=\"text-align: right;\">\n",
       "      <th></th>\n",
       "      <th>Survived</th>\n",
       "      <th>Pclass</th>\n",
       "      <th>Age</th>\n",
       "      <th>SibSp</th>\n",
       "      <th>Parch</th>\n",
       "      <th>Fare</th>\n",
       "    </tr>\n",
       "  </thead>\n",
       "  <tbody>\n",
       "    <tr>\n",
       "      <th>count</th>\n",
       "      <td>891.000000</td>\n",
       "      <td>891.000000</td>\n",
       "      <td>714.000000</td>\n",
       "      <td>891.000000</td>\n",
       "      <td>891.000000</td>\n",
       "      <td>891.000000</td>\n",
       "    </tr>\n",
       "    <tr>\n",
       "      <th>mean</th>\n",
       "      <td>0.383838</td>\n",
       "      <td>2.308642</td>\n",
       "      <td>29.699118</td>\n",
       "      <td>0.523008</td>\n",
       "      <td>0.381594</td>\n",
       "      <td>32.204208</td>\n",
       "    </tr>\n",
       "    <tr>\n",
       "      <th>std</th>\n",
       "      <td>0.486592</td>\n",
       "      <td>0.836071</td>\n",
       "      <td>14.526497</td>\n",
       "      <td>1.102743</td>\n",
       "      <td>0.806057</td>\n",
       "      <td>49.693429</td>\n",
       "    </tr>\n",
       "    <tr>\n",
       "      <th>min</th>\n",
       "      <td>0.000000</td>\n",
       "      <td>1.000000</td>\n",
       "      <td>0.420000</td>\n",
       "      <td>0.000000</td>\n",
       "      <td>0.000000</td>\n",
       "      <td>0.000000</td>\n",
       "    </tr>\n",
       "    <tr>\n",
       "      <th>25%</th>\n",
       "      <td>0.000000</td>\n",
       "      <td>2.000000</td>\n",
       "      <td>20.125000</td>\n",
       "      <td>0.000000</td>\n",
       "      <td>0.000000</td>\n",
       "      <td>7.910400</td>\n",
       "    </tr>\n",
       "    <tr>\n",
       "      <th>50%</th>\n",
       "      <td>0.000000</td>\n",
       "      <td>3.000000</td>\n",
       "      <td>28.000000</td>\n",
       "      <td>0.000000</td>\n",
       "      <td>0.000000</td>\n",
       "      <td>14.454200</td>\n",
       "    </tr>\n",
       "    <tr>\n",
       "      <th>75%</th>\n",
       "      <td>1.000000</td>\n",
       "      <td>3.000000</td>\n",
       "      <td>38.000000</td>\n",
       "      <td>1.000000</td>\n",
       "      <td>0.000000</td>\n",
       "      <td>31.000000</td>\n",
       "    </tr>\n",
       "    <tr>\n",
       "      <th>max</th>\n",
       "      <td>1.000000</td>\n",
       "      <td>3.000000</td>\n",
       "      <td>80.000000</td>\n",
       "      <td>8.000000</td>\n",
       "      <td>6.000000</td>\n",
       "      <td>512.329200</td>\n",
       "    </tr>\n",
       "  </tbody>\n",
       "</table>\n",
       "</div>"
      ],
      "text/plain": [
       "         Survived      Pclass         Age       SibSp       Parch        Fare\n",
       "count  891.000000  891.000000  714.000000  891.000000  891.000000  891.000000\n",
       "mean     0.383838    2.308642   29.699118    0.523008    0.381594   32.204208\n",
       "std      0.486592    0.836071   14.526497    1.102743    0.806057   49.693429\n",
       "min      0.000000    1.000000    0.420000    0.000000    0.000000    0.000000\n",
       "25%      0.000000    2.000000   20.125000    0.000000    0.000000    7.910400\n",
       "50%      0.000000    3.000000   28.000000    0.000000    0.000000   14.454200\n",
       "75%      1.000000    3.000000   38.000000    1.000000    0.000000   31.000000\n",
       "max      1.000000    3.000000   80.000000    8.000000    6.000000  512.329200"
      ]
     },
     "execution_count": 4,
     "metadata": {},
     "output_type": "execute_result"
    }
   ],
   "source": [
    "df_train.describe()"
   ]
  },
  {
   "cell_type": "code",
   "execution_count": 5,
   "id": "964d9516",
   "metadata": {
    "execution": {
     "iopub.execute_input": "2023-08-28T19:04:47.789629Z",
     "iopub.status.busy": "2023-08-28T19:04:47.789219Z",
     "iopub.status.idle": "2023-08-28T19:04:47.799126Z",
     "shell.execute_reply": "2023-08-28T19:04:47.797984Z"
    },
    "papermill": {
     "duration": 0.022154,
     "end_time": "2023-08-28T19:04:47.801339",
     "exception": false,
     "start_time": "2023-08-28T19:04:47.779185",
     "status": "completed"
    },
    "tags": []
   },
   "outputs": [
    {
     "data": {
      "text/plain": [
       "Survived      0\n",
       "Pclass        0\n",
       "Name          0\n",
       "Sex           0\n",
       "Age         177\n",
       "SibSp         0\n",
       "Parch         0\n",
       "Ticket        0\n",
       "Fare          0\n",
       "Cabin       687\n",
       "Embarked      2\n",
       "dtype: int64"
      ]
     },
     "execution_count": 5,
     "metadata": {},
     "output_type": "execute_result"
    }
   ],
   "source": [
    "df_train.isnull().sum()"
   ]
  },
  {
   "cell_type": "markdown",
   "id": "d0046775",
   "metadata": {
    "papermill": {
     "duration": 0.008483,
     "end_time": "2023-08-28T19:04:47.818726",
     "exception": false,
     "start_time": "2023-08-28T19:04:47.810243",
     "status": "completed"
    },
    "tags": []
   },
   "source": [
    "## Data Cleaning"
   ]
  },
  {
   "cell_type": "code",
   "execution_count": 6,
   "id": "694233e4",
   "metadata": {
    "execution": {
     "iopub.execute_input": "2023-08-28T19:04:47.838217Z",
     "iopub.status.busy": "2023-08-28T19:04:47.837832Z",
     "iopub.status.idle": "2023-08-28T19:04:47.847014Z",
     "shell.execute_reply": "2023-08-28T19:04:47.846052Z"
    },
    "papermill": {
     "duration": 0.021754,
     "end_time": "2023-08-28T19:04:47.849466",
     "exception": false,
     "start_time": "2023-08-28T19:04:47.827712",
     "status": "completed"
    },
    "tags": []
   },
   "outputs": [],
   "source": [
    "'''\n",
    "    Let's fill Age with mean of Age columns and Embarked with mode of it (to better filling Embarked I think it is good first \n",
    "    we splite our dataset to Survived an Unsurvides and fill embarked on mode of relative)\n",
    "'''\n",
    "df_train['Age'].fillna(df_train['Age'].mean(), inplace=True)\n",
    "df_train['Embarked'].fillna(df_train['Embarked'].mode()[0], inplace=True)\n"
   ]
  },
  {
   "cell_type": "code",
   "execution_count": 7,
   "id": "5d9a9d96",
   "metadata": {
    "execution": {
     "iopub.execute_input": "2023-08-28T19:04:47.868681Z",
     "iopub.status.busy": "2023-08-28T19:04:47.868304Z",
     "iopub.status.idle": "2023-08-28T19:04:48.035313Z",
     "shell.execute_reply": "2023-08-28T19:04:48.034336Z"
    },
    "papermill": {
     "duration": 0.179224,
     "end_time": "2023-08-28T19:04:48.037537",
     "exception": false,
     "start_time": "2023-08-28T19:04:47.858313",
     "status": "completed"
    },
    "tags": []
   },
   "outputs": [],
   "source": [
    "import random\n",
    "def fill_cabin(cabin):\n",
    "    cabins = []\n",
    "    for c in list(df_train['Cabin'].mode()):\n",
    "        cabins += c.split(\" \")\n",
    "    cabin = random.choice(cabins)\n",
    "    return cabin\n",
    "mask = df_train['Cabin'].isnull()\n",
    "df_train.loc[mask, 'Cabin'] = df_train.loc[mask, 'Cabin'].apply(fill_cabin)"
   ]
  },
  {
   "cell_type": "code",
   "execution_count": 8,
   "id": "eba6e438",
   "metadata": {
    "execution": {
     "iopub.execute_input": "2023-08-28T19:04:48.057028Z",
     "iopub.status.busy": "2023-08-28T19:04:48.056634Z",
     "iopub.status.idle": "2023-08-28T19:04:48.066024Z",
     "shell.execute_reply": "2023-08-28T19:04:48.064963Z"
    },
    "papermill": {
     "duration": 0.021734,
     "end_time": "2023-08-28T19:04:48.068295",
     "exception": false,
     "start_time": "2023-08-28T19:04:48.046561",
     "status": "completed"
    },
    "tags": []
   },
   "outputs": [
    {
     "data": {
      "text/plain": [
       "Survived    0\n",
       "Pclass      0\n",
       "Name        0\n",
       "Sex         0\n",
       "Age         0\n",
       "SibSp       0\n",
       "Parch       0\n",
       "Ticket      0\n",
       "Fare        0\n",
       "Cabin       0\n",
       "Embarked    0\n",
       "dtype: int64"
      ]
     },
     "execution_count": 8,
     "metadata": {},
     "output_type": "execute_result"
    }
   ],
   "source": [
    "df_train.isnull().sum()"
   ]
  },
  {
   "cell_type": "code",
   "execution_count": 9,
   "id": "d5df3577",
   "metadata": {
    "execution": {
     "iopub.execute_input": "2023-08-28T19:04:48.087902Z",
     "iopub.status.busy": "2023-08-28T19:04:48.087507Z",
     "iopub.status.idle": "2023-08-28T19:04:48.095176Z",
     "shell.execute_reply": "2023-08-28T19:04:48.094058Z"
    },
    "papermill": {
     "duration": 0.020494,
     "end_time": "2023-08-28T19:04:48.097663",
     "exception": false,
     "start_time": "2023-08-28T19:04:48.077169",
     "status": "completed"
    },
    "tags": []
   },
   "outputs": [],
   "source": [
    "cabin_mapping = { 'G6': 1700, 'T': 1800}\n",
    "def get_dicemal(cabin):\n",
    "    hex_number = cabin.split(\" \")[0]\n",
    "    if hex_number in cabin_mapping:\n",
    "        return cabin_mapping.get(hex_number)\n",
    "    return int(hex_number, 16)\n",
    "\n",
    "df_train['Cabin'] = df_train['Cabin'].apply(get_dicemal)"
   ]
  },
  {
   "cell_type": "code",
   "execution_count": 10,
   "id": "121c6c91",
   "metadata": {
    "execution": {
     "iopub.execute_input": "2023-08-28T19:04:48.118133Z",
     "iopub.status.busy": "2023-08-28T19:04:48.117720Z",
     "iopub.status.idle": "2023-08-28T19:04:48.128208Z",
     "shell.execute_reply": "2023-08-28T19:04:48.127078Z"
    },
    "papermill": {
     "duration": 0.023329,
     "end_time": "2023-08-28T19:04:48.130362",
     "exception": false,
     "start_time": "2023-08-28T19:04:48.107033",
     "status": "completed"
    },
    "tags": []
   },
   "outputs": [
    {
     "data": {
      "text/plain": [
       "array([2, 0, 1])"
      ]
     },
     "execution_count": 10,
     "metadata": {},
     "output_type": "execute_result"
    }
   ],
   "source": [
    "# let's change Embarked characters to a number {C: 0, Q:1, S:2}\n",
    "from sklearn.preprocessing import LabelEncoder\n",
    "embark_label_encoder = LabelEncoder()\n",
    "df_train['Embarked']= embark_label_encoder.fit_transform(df_train['Embarked'])\n",
    "df_train['Embarked'].unique()"
   ]
  },
  {
   "cell_type": "code",
   "execution_count": 11,
   "id": "da21a305",
   "metadata": {
    "execution": {
     "iopub.execute_input": "2023-08-28T19:04:48.150491Z",
     "iopub.status.busy": "2023-08-28T19:04:48.150102Z",
     "iopub.status.idle": "2023-08-28T19:04:48.156280Z",
     "shell.execute_reply": "2023-08-28T19:04:48.155111Z"
    },
    "papermill": {
     "duration": 0.019292,
     "end_time": "2023-08-28T19:04:48.158734",
     "exception": false,
     "start_time": "2023-08-28T19:04:48.139442",
     "status": "completed"
    },
    "tags": []
   },
   "outputs": [],
   "source": [
    "# Delete Ticket and name of Passenger\n",
    "df_train.drop(columns=['Ticket', 'Name'], inplace=True)"
   ]
  },
  {
   "cell_type": "code",
   "execution_count": 12,
   "id": "33e7f9d2",
   "metadata": {
    "execution": {
     "iopub.execute_input": "2023-08-28T19:04:48.178817Z",
     "iopub.status.busy": "2023-08-28T19:04:48.178447Z",
     "iopub.status.idle": "2023-08-28T19:04:48.187046Z",
     "shell.execute_reply": "2023-08-28T19:04:48.186095Z"
    },
    "papermill": {
     "duration": 0.021343,
     "end_time": "2023-08-28T19:04:48.189174",
     "exception": false,
     "start_time": "2023-08-28T19:04:48.167831",
     "status": "completed"
    },
    "tags": []
   },
   "outputs": [
    {
     "data": {
      "text/plain": [
       "array([1, 0])"
      ]
     },
     "execution_count": 12,
     "metadata": {},
     "output_type": "execute_result"
    }
   ],
   "source": [
    "# change sex to number {male:1, female:0}\n",
    "sex_label_encoder = LabelEncoder()\n",
    "df_train['Sex'] = sex_label_encoder.fit_transform(df_train['Sex'])\n",
    "df_train['Sex'].unique()"
   ]
  },
  {
   "cell_type": "code",
   "execution_count": 13,
   "id": "54088651",
   "metadata": {
    "execution": {
     "iopub.execute_input": "2023-08-28T19:04:48.210460Z",
     "iopub.status.busy": "2023-08-28T19:04:48.210058Z",
     "iopub.status.idle": "2023-08-28T19:04:48.219096Z",
     "shell.execute_reply": "2023-08-28T19:04:48.218250Z"
    },
    "papermill": {
     "duration": 0.021483,
     "end_time": "2023-08-28T19:04:48.221282",
     "exception": false,
     "start_time": "2023-08-28T19:04:48.199799",
     "status": "completed"
    },
    "tags": []
   },
   "outputs": [],
   "source": [
    "# As we can see our dataset looks good to a machile learning model(it's features are all numric)\n",
    "# Let's splite the dataset features to independent(X) and dependent(Y)\n",
    "import numpy as np\n",
    "X = np.asarray(df_train[[\"Pclass\", \"Sex\", \"Age\", \"SibSp\", \"Parch\", \"Fare\", \"Cabin\", \"Embarked\"]])\n",
    "Y = np.asarray(df_train['Survived'])"
   ]
  },
  {
   "cell_type": "code",
   "execution_count": 14,
   "id": "cb643d9d",
   "metadata": {
    "execution": {
     "iopub.execute_input": "2023-08-28T19:04:48.241206Z",
     "iopub.status.busy": "2023-08-28T19:04:48.240822Z",
     "iopub.status.idle": "2023-08-28T19:04:48.245565Z",
     "shell.execute_reply": "2023-08-28T19:04:48.244546Z"
    },
    "papermill": {
     "duration": 0.017051,
     "end_time": "2023-08-28T19:04:48.247530",
     "exception": false,
     "start_time": "2023-08-28T19:04:48.230479",
     "status": "completed"
    },
    "tags": []
   },
   "outputs": [],
   "source": [
    "from sklearn.preprocessing import StandardScaler\n",
    "scaler = StandardScaler()"
   ]
  },
  {
   "cell_type": "code",
   "execution_count": 15,
   "id": "55b08a44",
   "metadata": {
    "execution": {
     "iopub.execute_input": "2023-08-28T19:04:48.267474Z",
     "iopub.status.busy": "2023-08-28T19:04:48.267084Z",
     "iopub.status.idle": "2023-08-28T19:04:48.274117Z",
     "shell.execute_reply": "2023-08-28T19:04:48.273345Z"
    },
    "papermill": {
     "duration": 0.019793,
     "end_time": "2023-08-28T19:04:48.276281",
     "exception": false,
     "start_time": "2023-08-28T19:04:48.256488",
     "status": "completed"
    },
    "tags": []
   },
   "outputs": [],
   "source": [
    "X = scaler.fit(X).transform(X)"
   ]
  },
  {
   "cell_type": "code",
   "execution_count": 16,
   "id": "db740971",
   "metadata": {
    "execution": {
     "iopub.execute_input": "2023-08-28T19:04:48.296369Z",
     "iopub.status.busy": "2023-08-28T19:04:48.295964Z",
     "iopub.status.idle": "2023-08-28T19:04:48.554531Z",
     "shell.execute_reply": "2023-08-28T19:04:48.553714Z"
    },
    "papermill": {
     "duration": 0.271189,
     "end_time": "2023-08-28T19:04:48.556719",
     "exception": false,
     "start_time": "2023-08-28T19:04:48.285530",
     "status": "completed"
    },
    "tags": []
   },
   "outputs": [
    {
     "data": {
      "text/html": [
       "<style>#sk-container-id-1 {color: black;background-color: white;}#sk-container-id-1 pre{padding: 0;}#sk-container-id-1 div.sk-toggleable {background-color: white;}#sk-container-id-1 label.sk-toggleable__label {cursor: pointer;display: block;width: 100%;margin-bottom: 0;padding: 0.3em;box-sizing: border-box;text-align: center;}#sk-container-id-1 label.sk-toggleable__label-arrow:before {content: \"▸\";float: left;margin-right: 0.25em;color: #696969;}#sk-container-id-1 label.sk-toggleable__label-arrow:hover:before {color: black;}#sk-container-id-1 div.sk-estimator:hover label.sk-toggleable__label-arrow:before {color: black;}#sk-container-id-1 div.sk-toggleable__content {max-height: 0;max-width: 0;overflow: hidden;text-align: left;background-color: #f0f8ff;}#sk-container-id-1 div.sk-toggleable__content pre {margin: 0.2em;color: black;border-radius: 0.25em;background-color: #f0f8ff;}#sk-container-id-1 input.sk-toggleable__control:checked~div.sk-toggleable__content {max-height: 200px;max-width: 100%;overflow: auto;}#sk-container-id-1 input.sk-toggleable__control:checked~label.sk-toggleable__label-arrow:before {content: \"▾\";}#sk-container-id-1 div.sk-estimator input.sk-toggleable__control:checked~label.sk-toggleable__label {background-color: #d4ebff;}#sk-container-id-1 div.sk-label input.sk-toggleable__control:checked~label.sk-toggleable__label {background-color: #d4ebff;}#sk-container-id-1 input.sk-hidden--visually {border: 0;clip: rect(1px 1px 1px 1px);clip: rect(1px, 1px, 1px, 1px);height: 1px;margin: -1px;overflow: hidden;padding: 0;position: absolute;width: 1px;}#sk-container-id-1 div.sk-estimator {font-family: monospace;background-color: #f0f8ff;border: 1px dotted black;border-radius: 0.25em;box-sizing: border-box;margin-bottom: 0.5em;}#sk-container-id-1 div.sk-estimator:hover {background-color: #d4ebff;}#sk-container-id-1 div.sk-parallel-item::after {content: \"\";width: 100%;border-bottom: 1px solid gray;flex-grow: 1;}#sk-container-id-1 div.sk-label:hover label.sk-toggleable__label {background-color: #d4ebff;}#sk-container-id-1 div.sk-serial::before {content: \"\";position: absolute;border-left: 1px solid gray;box-sizing: border-box;top: 0;bottom: 0;left: 50%;z-index: 0;}#sk-container-id-1 div.sk-serial {display: flex;flex-direction: column;align-items: center;background-color: white;padding-right: 0.2em;padding-left: 0.2em;position: relative;}#sk-container-id-1 div.sk-item {position: relative;z-index: 1;}#sk-container-id-1 div.sk-parallel {display: flex;align-items: stretch;justify-content: center;background-color: white;position: relative;}#sk-container-id-1 div.sk-item::before, #sk-container-id-1 div.sk-parallel-item::before {content: \"\";position: absolute;border-left: 1px solid gray;box-sizing: border-box;top: 0;bottom: 0;left: 50%;z-index: -1;}#sk-container-id-1 div.sk-parallel-item {display: flex;flex-direction: column;z-index: 1;position: relative;background-color: white;}#sk-container-id-1 div.sk-parallel-item:first-child::after {align-self: flex-end;width: 50%;}#sk-container-id-1 div.sk-parallel-item:last-child::after {align-self: flex-start;width: 50%;}#sk-container-id-1 div.sk-parallel-item:only-child::after {width: 0;}#sk-container-id-1 div.sk-dashed-wrapped {border: 1px dashed gray;margin: 0 0.4em 0.5em 0.4em;box-sizing: border-box;padding-bottom: 0.4em;background-color: white;}#sk-container-id-1 div.sk-label label {font-family: monospace;font-weight: bold;display: inline-block;line-height: 1.2em;}#sk-container-id-1 div.sk-label-container {text-align: center;}#sk-container-id-1 div.sk-container {/* jupyter's `normalize.less` sets `[hidden] { display: none; }` but bootstrap.min.css set `[hidden] { display: none !important; }` so we also need the `!important` here to be able to override the default hidden behavior on the sphinx rendered scikit-learn.org. See: https://github.com/scikit-learn/scikit-learn/issues/21755 */display: inline-block !important;position: relative;}#sk-container-id-1 div.sk-text-repr-fallback {display: none;}</style><div id=\"sk-container-id-1\" class=\"sk-top-container\"><div class=\"sk-text-repr-fallback\"><pre>LogisticRegression(C=0.1, solver=&#x27;liblinear&#x27;)</pre><b>In a Jupyter environment, please rerun this cell to show the HTML representation or trust the notebook. <br />On GitHub, the HTML representation is unable to render, please try loading this page with nbviewer.org.</b></div><div class=\"sk-container\" hidden><div class=\"sk-item\"><div class=\"sk-estimator sk-toggleable\"><input class=\"sk-toggleable__control sk-hidden--visually\" id=\"sk-estimator-id-1\" type=\"checkbox\" checked><label for=\"sk-estimator-id-1\" class=\"sk-toggleable__label sk-toggleable__label-arrow\">LogisticRegression</label><div class=\"sk-toggleable__content\"><pre>LogisticRegression(C=0.1, solver=&#x27;liblinear&#x27;)</pre></div></div></div></div></div>"
      ],
      "text/plain": [
       "LogisticRegression(C=0.1, solver='liblinear')"
      ]
     },
     "execution_count": 16,
     "metadata": {},
     "output_type": "execute_result"
    }
   ],
   "source": [
    "from sklearn.linear_model import LogisticRegression\n",
    "LR = LogisticRegression(C=0.1, solver='liblinear') #solver can be {‘newton-cg’, ‘lbfgs’, ‘liblinear’, ‘sag’, ‘saga’}\n",
    "LR.fit(X, Y)"
   ]
  },
  {
   "cell_type": "code",
   "execution_count": 17,
   "id": "d0596567",
   "metadata": {
    "execution": {
     "iopub.execute_input": "2023-08-28T19:04:48.577245Z",
     "iopub.status.busy": "2023-08-28T19:04:48.576858Z",
     "iopub.status.idle": "2023-08-28T19:04:48.582569Z",
     "shell.execute_reply": "2023-08-28T19:04:48.581429Z"
    },
    "papermill": {
     "duration": 0.018383,
     "end_time": "2023-08-28T19:04:48.584815",
     "exception": false,
     "start_time": "2023-08-28T19:04:48.566432",
     "status": "completed"
    },
    "tags": []
   },
   "outputs": [],
   "source": [
    "Y_pred = LR.predict(X)"
   ]
  },
  {
   "cell_type": "code",
   "execution_count": 18,
   "id": "a380834d",
   "metadata": {
    "execution": {
     "iopub.execute_input": "2023-08-28T19:04:48.605003Z",
     "iopub.status.busy": "2023-08-28T19:04:48.604633Z",
     "iopub.status.idle": "2023-08-28T19:04:48.615666Z",
     "shell.execute_reply": "2023-08-28T19:04:48.614527Z"
    },
    "papermill": {
     "duration": 0.023624,
     "end_time": "2023-08-28T19:04:48.617678",
     "exception": false,
     "start_time": "2023-08-28T19:04:48.594054",
     "status": "completed"
    },
    "tags": []
   },
   "outputs": [
    {
     "data": {
      "text/plain": [
       "0.7237654320987654"
      ]
     },
     "execution_count": 18,
     "metadata": {},
     "output_type": "execute_result"
    }
   ],
   "source": [
    "# Let's try the jaccard index for accuracy evaluation. we can define jaccard as the size of the intersection divided by \n",
    "# the size of the union of the two label sets. If the entire set of predicted labels for a sample strictly match with \n",
    "# the true set of labels, then the subset accuracy is 1.0; otherwise it is 0.0.\n",
    "from sklearn.metrics import jaccard_score\n",
    "jaccard_score(Y, Y_pred, pos_label=0)"
   ]
  },
  {
   "cell_type": "code",
   "execution_count": 19,
   "id": "930df085",
   "metadata": {
    "execution": {
     "iopub.execute_input": "2023-08-28T19:04:48.637941Z",
     "iopub.status.busy": "2023-08-28T19:04:48.637572Z",
     "iopub.status.idle": "2023-08-28T19:04:48.652215Z",
     "shell.execute_reply": "2023-08-28T19:04:48.651018Z"
    },
    "papermill": {
     "duration": 0.027219,
     "end_time": "2023-08-28T19:04:48.654215",
     "exception": false,
     "start_time": "2023-08-28T19:04:48.626996",
     "status": "completed"
    },
    "tags": []
   },
   "outputs": [
    {
     "name": "stdout",
     "output_type": "stream",
     "text": [
      "[[243  99]\n",
      " [ 80 469]]\n"
     ]
    }
   ],
   "source": [
    "from sklearn.metrics import classification_report, confusion_matrix\n",
    "import itertools\n",
    "def plot_confusion_matrix(cm, classes,\n",
    "                          normalize=False,\n",
    "                          title='Confusion matrix',\n",
    "                          cmap=plt.cm.Blues):\n",
    "    \"\"\"\n",
    "    This function prints and plots the confusion matrix.\n",
    "    Normalization can be applied by setting `normalize=True`.\n",
    "    \"\"\"\n",
    "    if normalize:\n",
    "        cm = cm.astype('float') / cm.sum(axis=1)[:, np.newaxis]\n",
    "        print(\"Normalized confusion matrix\")\n",
    "    else:\n",
    "        print('Confusion matrix, without normalization')\n",
    "\n",
    "    print(cm)\n",
    "\n",
    "    plt.imshow(cm, interpolation='nearest', cmap=cmap)\n",
    "    plt.title(title)\n",
    "    plt.colorbar()\n",
    "    tick_marks = np.arange(len(classes))\n",
    "    plt.xticks(tick_marks, classes, rotation=45)\n",
    "    plt.yticks(tick_marks, classes)\n",
    "\n",
    "    fmt = '.2f' if normalize else 'd'\n",
    "    thresh = cm.max() / 2.\n",
    "    for i, j in itertools.product(range(cm.shape[0]), range(cm.shape[1])):\n",
    "        plt.text(j, i, format(cm[i, j], fmt),\n",
    "                 horizontalalignment=\"center\",\n",
    "                 color=\"white\" if cm[i, j] > thresh else \"black\")\n",
    "\n",
    "    plt.tight_layout()\n",
    "    plt.ylabel('True label')\n",
    "    plt.xlabel('Predicted label')\n",
    "print(confusion_matrix(Y, Y_pred, labels=[1,0]))"
   ]
  },
  {
   "cell_type": "code",
   "execution_count": 20,
   "id": "965d5950",
   "metadata": {
    "execution": {
     "iopub.execute_input": "2023-08-28T19:04:48.675561Z",
     "iopub.status.busy": "2023-08-28T19:04:48.674796Z",
     "iopub.status.idle": "2023-08-28T19:04:49.066231Z",
     "shell.execute_reply": "2023-08-28T19:04:49.065404Z"
    },
    "papermill": {
     "duration": 0.4039,
     "end_time": "2023-08-28T19:04:49.068153",
     "exception": false,
     "start_time": "2023-08-28T19:04:48.664253",
     "status": "completed"
    },
    "tags": []
   },
   "outputs": [
    {
     "name": "stdout",
     "output_type": "stream",
     "text": [
      "Normalized confusion matrix\n",
      "[[0.71 0.29]\n",
      " [0.15 0.85]]\n"
     ]
    },
    {
     "data": {
      "image/png": "[encoded data removed]",
      "text/plain": [
       "<Figure size 640x480 with 2 Axes>"
      ]
     },
     "metadata": {},
     "output_type": "display_data"
    }
   ],
   "source": [
    "cnf_matrix = confusion_matrix(Y, Y_pred, labels=[1,0])\n",
    "np.set_printoptions(precision=2)\n",
    "\n",
    "plt.figure()\n",
    "plot_confusion_matrix(cnf_matrix, classes=['Survive=1','Survive=0'],normalize= True,  title='Confusion matrix')"
   ]
  },
  {
   "cell_type": "code",
   "execution_count": 21,
   "id": "ad4a126d",
   "metadata": {
    "execution": {
     "iopub.execute_input": "2023-08-28T19:04:49.089743Z",
     "iopub.status.busy": "2023-08-28T19:04:49.088997Z",
     "iopub.status.idle": "2023-08-28T19:04:49.102641Z",
     "shell.execute_reply": "2023-08-28T19:04:49.101524Z"
    },
    "papermill": {
     "duration": 0.026823,
     "end_time": "2023-08-28T19:04:49.104783",
     "exception": false,
     "start_time": "2023-08-28T19:04:49.077960",
     "status": "completed"
    },
    "tags": []
   },
   "outputs": [
    {
     "name": "stdout",
     "output_type": "stream",
     "text": [
      "              precision    recall  f1-score   support\n",
      "\n",
      "           0       0.83      0.85      0.84       549\n",
      "           1       0.75      0.71      0.73       342\n",
      "\n",
      "    accuracy                           0.80       891\n",
      "   macro avg       0.79      0.78      0.79       891\n",
      "weighted avg       0.80      0.80      0.80       891\n",
      "\n"
     ]
    }
   ],
   "source": [
    "print (classification_report(Y, Y_pred))"
   ]
  },
  {
   "cell_type": "markdown",
   "id": "5f058034",
   "metadata": {
    "papermill": {
     "duration": 0.009644,
     "end_time": "2023-08-28T19:04:49.124634",
     "exception": false,
     "start_time": "2023-08-28T19:04:49.114990",
     "status": "completed"
    },
    "tags": []
   },
   "source": [
    "**Precision** is a measure of the accuracy provided that a class label has been predicted. It is defined by: precision = TP / (TP + FP)\n",
    "\n",
    "**Recall** is the true positive rate. It is defined as: Recall =  TP / (TP + FN)\n",
    "\n",
    "So, we can calculate the precision and recall of each class.\n",
    "\n",
    "**F1 score:** Now we are in the position to calculate the F1 scores for each label based on the precision and recall of that label."
   ]
  },
  {
   "cell_type": "code",
   "execution_count": 22,
   "id": "634eed73",
   "metadata": {
    "execution": {
     "iopub.execute_input": "2023-08-28T19:04:49.146074Z",
     "iopub.status.busy": "2023-08-28T19:04:49.145666Z",
     "iopub.status.idle": "2023-08-28T19:04:49.157591Z",
     "shell.execute_reply": "2023-08-28T19:04:49.156456Z"
    },
    "papermill": {
     "duration": 0.025414,
     "end_time": "2023-08-28T19:04:49.159930",
     "exception": false,
     "start_time": "2023-08-28T19:04:49.134516",
     "status": "completed"
    },
    "tags": []
   },
   "outputs": [
    {
     "data": {
      "text/plain": [
       "7.241093105108832"
      ]
     },
     "execution_count": 22,
     "metadata": {},
     "output_type": "execute_result"
    }
   ],
   "source": [
    "from sklearn.metrics import log_loss\n",
    "log_loss(Y, Y_pred)"
   ]
  },
  {
   "cell_type": "code",
   "execution_count": 23,
   "id": "78c52311",
   "metadata": {
    "execution": {
     "iopub.execute_input": "2023-08-28T19:04:49.182250Z",
     "iopub.status.busy": "2023-08-28T19:04:49.181870Z",
     "iopub.status.idle": "2023-08-28T19:04:49.195483Z",
     "shell.execute_reply": "2023-08-28T19:04:49.194335Z"
    },
    "papermill": {
     "duration": 0.02844,
     "end_time": "2023-08-28T19:04:49.198526",
     "exception": false,
     "start_time": "2023-08-28T19:04:49.170086",
     "status": "completed"
    },
    "tags": []
   },
   "outputs": [],
   "source": [
    "df_test = pd.read_csv(\"/kaggle/input/titanic/test.csv\", index_col='PassengerId')"
   ]
  },
  {
   "cell_type": "code",
   "execution_count": 24,
   "id": "aa53da0c",
   "metadata": {
    "execution": {
     "iopub.execute_input": "2023-08-28T19:04:49.222197Z",
     "iopub.status.busy": "2023-08-28T19:04:49.221820Z",
     "iopub.status.idle": "2023-08-28T19:04:49.309466Z",
     "shell.execute_reply": "2023-08-28T19:04:49.308331Z"
    },
    "papermill": {
     "duration": 0.101977,
     "end_time": "2023-08-28T19:04:49.311603",
     "exception": false,
     "start_time": "2023-08-28T19:04:49.209626",
     "status": "completed"
    },
    "tags": []
   },
   "outputs": [],
   "source": [
    "df_test['Age'].fillna(df_test['Age'].mean(), inplace=True)\n",
    "\n",
    "def fill_cabin(cabin):\n",
    "    cabins = []\n",
    "    for c in list(df_test['Cabin'].mode()):\n",
    "        cabins += c.split(\" \")\n",
    "    cabin = random.choice(cabins)\n",
    "    return cabin\n",
    "\n",
    "def get_dicemal(cabin):\n",
    "    hex_number = cabin.split(\" \")[0]\n",
    "    if hex_number in cabin_mapping:\n",
    "        return cabin_mapping.get(hex_number)\n",
    "    return int(hex_number, 16)\n",
    "\n",
    "\n",
    "mask = df_test['Cabin'].isnull()\n",
    "df_test.loc[mask, 'Cabin'] = df_test.loc[mask, 'Cabin'].apply(fill_cabin)\n",
    "\n",
    "df_test['Cabin'] = df_test['Cabin'].apply(get_dicemal)\n",
    "\n"
   ]
  },
  {
   "cell_type": "code",
   "execution_count": 25,
   "id": "e6f548c2",
   "metadata": {
    "execution": {
     "iopub.execute_input": "2023-08-28T19:04:49.333624Z",
     "iopub.status.busy": "2023-08-28T19:04:49.333236Z",
     "iopub.status.idle": "2023-08-28T19:04:49.339729Z",
     "shell.execute_reply": "2023-08-28T19:04:49.338535Z"
    },
    "papermill": {
     "duration": 0.019914,
     "end_time": "2023-08-28T19:04:49.341700",
     "exception": false,
     "start_time": "2023-08-28T19:04:49.321786",
     "status": "completed"
    },
    "tags": []
   },
   "outputs": [],
   "source": [
    "df_test['Embarked']= embark_label_encoder.fit_transform(df_test['Embarked'])\n",
    "\n",
    "\n",
    "sex_label_encoder = LabelEncoder()\n",
    "df_test['Sex'] = sex_label_encoder.fit_transform(df_test['Sex'])\n",
    "\n"
   ]
  },
  {
   "cell_type": "code",
   "execution_count": 26,
   "id": "36593c1d",
   "metadata": {
    "execution": {
     "iopub.execute_input": "2023-08-28T19:04:49.363650Z",
     "iopub.status.busy": "2023-08-28T19:04:49.363238Z",
     "iopub.status.idle": "2023-08-28T19:04:49.369427Z",
     "shell.execute_reply": "2023-08-28T19:04:49.368186Z"
    },
    "papermill": {
     "duration": 0.019888,
     "end_time": "2023-08-28T19:04:49.371733",
     "exception": false,
     "start_time": "2023-08-28T19:04:49.351845",
     "status": "completed"
    },
    "tags": []
   },
   "outputs": [],
   "source": [
    "df_test.drop(columns=['Ticket', 'Name'], inplace=True)"
   ]
  },
  {
   "cell_type": "code",
   "execution_count": 27,
   "id": "bb6806c1",
   "metadata": {
    "execution": {
     "iopub.execute_input": "2023-08-28T19:04:49.393844Z",
     "iopub.status.busy": "2023-08-28T19:04:49.393439Z",
     "iopub.status.idle": "2023-08-28T19:04:49.399161Z",
     "shell.execute_reply": "2023-08-28T19:04:49.398340Z"
    },
    "papermill": {
     "duration": 0.019146,
     "end_time": "2023-08-28T19:04:49.401071",
     "exception": false,
     "start_time": "2023-08-28T19:04:49.381925",
     "status": "completed"
    },
    "tags": []
   },
   "outputs": [],
   "source": [
    "df_test['Fare'].fillna(35.627188489208635, inplace=True)"
   ]
  },
  {
   "cell_type": "code",
   "execution_count": 28,
   "id": "9f59a11c",
   "metadata": {
    "execution": {
     "iopub.execute_input": "2023-08-28T19:04:49.424075Z",
     "iopub.status.busy": "2023-08-28T19:04:49.422937Z",
     "iopub.status.idle": "2023-08-28T19:04:49.431507Z",
     "shell.execute_reply": "2023-08-28T19:04:49.430644Z"
    },
    "papermill": {
     "duration": 0.022237,
     "end_time": "2023-08-28T19:04:49.433747",
     "exception": false,
     "start_time": "2023-08-28T19:04:49.411510",
     "status": "completed"
    },
    "tags": []
   },
   "outputs": [],
   "source": [
    "X = np.asarray(df_test[[\"Pclass\", \"Sex\", \"Age\", \"SibSp\", \"Parch\", \"Fare\", \"Cabin\", \"Embarked\"]])\n",
    "X = scaler.fit(X).transform(X)"
   ]
  },
  {
   "cell_type": "code",
   "execution_count": 29,
   "id": "134b302a",
   "metadata": {
    "execution": {
     "iopub.execute_input": "2023-08-28T19:04:49.456070Z",
     "iopub.status.busy": "2023-08-28T19:04:49.455699Z",
     "iopub.status.idle": "2023-08-28T19:04:49.460958Z",
     "shell.execute_reply": "2023-08-28T19:04:49.459837Z"
    },
    "papermill": {
     "duration": 0.019132,
     "end_time": "2023-08-28T19:04:49.463275",
     "exception": false,
     "start_time": "2023-08-28T19:04:49.444143",
     "status": "completed"
    },
    "tags": []
   },
   "outputs": [],
   "source": [
    "Y_pred = LR.predict(X)"
   ]
  },
  {
   "cell_type": "code",
   "execution_count": 30,
   "id": "435d77f7",
   "metadata": {
    "execution": {
     "iopub.execute_input": "2023-08-28T19:04:49.485552Z",
     "iopub.status.busy": "2023-08-28T19:04:49.485179Z",
     "iopub.status.idle": "2023-08-28T19:04:49.490339Z",
     "shell.execute_reply": "2023-08-28T19:04:49.489327Z"
    },
    "papermill": {
     "duration": 0.019007,
     "end_time": "2023-08-28T19:04:49.492380",
     "exception": false,
     "start_time": "2023-08-28T19:04:49.473373",
     "status": "completed"
    },
    "tags": []
   },
   "outputs": [],
   "source": [
    "pred = pd.DataFrame(Y_pred, columns = ['Survived'])"
   ]
  },
  {
   "cell_type": "code",
   "execution_count": 31,
   "id": "b3a52f88",
   "metadata": {
    "execution": {
     "iopub.execute_input": "2023-08-28T19:04:49.514344Z",
     "iopub.status.busy": "2023-08-28T19:04:49.513918Z",
     "iopub.status.idle": "2023-08-28T19:04:49.520854Z",
     "shell.execute_reply": "2023-08-28T19:04:49.519677Z"
    },
    "papermill": {
     "duration": 0.020507,
     "end_time": "2023-08-28T19:04:49.523072",
     "exception": false,
     "start_time": "2023-08-28T19:04:49.502565",
     "status": "completed"
    },
    "tags": []
   },
   "outputs": [],
   "source": [
    "ids = pd.DataFrame(df_test.index, columns = ['PassengerId'])"
   ]
  },
  {
   "cell_type": "code",
   "execution_count": 32,
   "id": "5301e8f9",
   "metadata": {
    "execution": {
     "iopub.execute_input": "2023-08-28T19:04:49.544852Z",
     "iopub.status.busy": "2023-08-28T19:04:49.544472Z",
     "iopub.status.idle": "2023-08-28T19:04:49.550111Z",
     "shell.execute_reply": "2023-08-28T19:04:49.549020Z"
    },
    "papermill": {
     "duration": 0.019268,
     "end_time": "2023-08-28T19:04:49.552376",
     "exception": false,
     "start_time": "2023-08-28T19:04:49.533108",
     "status": "completed"
    },
    "tags": []
   },
   "outputs": [],
   "source": [
    "sub = pd.concat([ids, pred], axis=1)"
   ]
  },
  {
   "cell_type": "code",
   "execution_count": 33,
   "id": "6e80478d",
   "metadata": {
    "execution": {
     "iopub.execute_input": "2023-08-28T19:04:49.574904Z",
     "iopub.status.busy": "2023-08-28T19:04:49.574531Z",
     "iopub.status.idle": "2023-08-28T19:04:49.582846Z",
     "shell.execute_reply": "2023-08-28T19:04:49.581944Z"
    },
    "papermill": {
     "duration": 0.02201,
     "end_time": "2023-08-28T19:04:49.585013",
     "exception": false,
     "start_time": "2023-08-28T19:04:49.563003",
     "status": "completed"
    },
    "tags": []
   },
   "outputs": [],
   "source": [
    "sub.to_csv('submission.csv', index=False)"
   ]
  }
 ],
 "metadata": {
  "kernelspec": {
   "display_name": "Python 3",
   "language": "python",
   "name": "python3"
  },
  "language_info": {
   "codemirror_mode": {
    "name": "ipython",
    "version": 3
   },
   "file_extension": ".py",
   "mimetype": "text/x-python",
   "name": "python",
   "nbconvert_exporter": "python",
   "pygments_lexer": "ipython3",
   "version": "3.10.12"
  },
  "papermill": {
   "default_parameters": {},
   "duration": 14.198073,
   "end_time": "2023-08-28T19:04:50.540920",
   "environment_variables": {},
   "exception": null,
   "input_path": "__notebook__.ipynb",
   "output_path": "__notebook__.ipynb",
   "parameters": {},
   "start_time": "2023-08-28T19:04:36.342847",
   "version": "2.4.0"
  }
 },
 "nbformat": 4,
 "nbformat_minor": 5
}
